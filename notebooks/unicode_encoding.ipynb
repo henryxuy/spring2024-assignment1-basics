{
 "cells": [
  {
   "cell_type": "code",
   "execution_count": null,
   "metadata": {},
   "outputs": [],
   "source": []
  },
  {
   "cell_type": "code",
   "execution_count": 4,
   "metadata": {},
   "outputs": [
    {
     "data": {
      "text/plain": [
       "'0'"
      ]
     },
     "execution_count": 4,
     "metadata": {},
     "output_type": "execute_result"
    }
   ],
   "source": [
    "'0'"
   ]
  },
  {
   "cell_type": "code",
   "execution_count": 1,
   "metadata": {},
   "outputs": [
    {
     "data": {
      "text/plain": [
       "'\\x00'"
      ]
     },
     "execution_count": 1,
     "metadata": {},
     "output_type": "execute_result"
    }
   ],
   "source": [
    "chr(0)"
   ]
  },
  {
   "cell_type": "code",
   "execution_count": 2,
   "metadata": {},
   "outputs": [
    {
     "data": {
      "text/plain": [
       "0"
      ]
     },
     "execution_count": 2,
     "metadata": {},
     "output_type": "execute_result"
    }
   ],
   "source": [
    "ord(chr(0))"
   ]
  },
  {
   "cell_type": "code",
   "execution_count": 3,
   "metadata": {},
   "outputs": [
    {
     "data": {
      "text/plain": [
       "48"
      ]
     },
     "execution_count": 3,
     "metadata": {},
     "output_type": "execute_result"
    }
   ],
   "source": [
    "ord('0')"
   ]
  },
  {
   "cell_type": "code",
   "execution_count": 5,
   "metadata": {},
   "outputs": [
    {
     "data": {
      "text/plain": [
       "\"'0'\""
      ]
     },
     "execution_count": 5,
     "metadata": {},
     "output_type": "execute_result"
    }
   ],
   "source": [
    "'0'.__repr__()"
   ]
  },
  {
   "cell_type": "code",
   "execution_count": 6,
   "metadata": {},
   "outputs": [
    {
     "name": "stdout",
     "output_type": "stream",
     "text": [
      "\u0000\n"
     ]
    }
   ],
   "source": [
    "print(chr(0))"
   ]
  },
  {
   "cell_type": "code",
   "execution_count": 7,
   "metadata": {},
   "outputs": [
    {
     "data": {
      "text/plain": [
       "'this is a test\\x00string'"
      ]
     },
     "execution_count": 7,
     "metadata": {},
     "output_type": "execute_result"
    }
   ],
   "source": [
    "\"this is a test\" + chr(0) + \"string\""
   ]
  },
  {
   "cell_type": "code",
   "execution_count": 8,
   "metadata": {},
   "outputs": [
    {
     "name": "stdout",
     "output_type": "stream",
     "text": [
      "this is a test\u0000string\n"
     ]
    }
   ],
   "source": [
    "print(\"this is a test\" + chr(0) + \"string\")"
   ]
  },
  {
   "cell_type": "code",
   "execution_count": 9,
   "metadata": {},
   "outputs": [],
   "source": [
    "test_string = \"hello! こんにちは!\""
   ]
  },
  {
   "cell_type": "code",
   "execution_count": 10,
   "metadata": {},
   "outputs": [],
   "source": [
    "utf8_encoded = test_string.encode(\"utf-8\")"
   ]
  },
  {
   "cell_type": "code",
   "execution_count": 11,
   "metadata": {},
   "outputs": [
    {
     "name": "stdout",
     "output_type": "stream",
     "text": [
      "b'hello! \\xe3\\x81\\x93\\xe3\\x82\\x93\\xe3\\x81\\xab\\xe3\\x81\\xa1\\xe3\\x81\\xaf!'\n"
     ]
    }
   ],
   "source": [
    "print(utf8_encoded)"
   ]
  },
  {
   "cell_type": "code",
   "execution_count": 12,
   "metadata": {},
   "outputs": [
    {
     "name": "stdout",
     "output_type": "stream",
     "text": [
      "<class 'bytes'>\n"
     ]
    }
   ],
   "source": [
    "print(type(utf8_encoded))"
   ]
  },
  {
   "cell_type": "code",
   "execution_count": 15,
   "metadata": {},
   "outputs": [
    {
     "name": "stdout",
     "output_type": "stream",
     "text": [
      "[104, 101, 108, 108, 111, 33, 32, 227, 129, 147, 227, 130, 147, 227, 129, 171, 227, 129, 161, 227, 129, 175, 33]\n"
     ]
    }
   ],
   "source": [
    "print(list(utf8_encoded))"
   ]
  },
  {
   "cell_type": "code",
   "execution_count": 16,
   "metadata": {},
   "outputs": [
    {
     "data": {
      "text/plain": [
       "13"
      ]
     },
     "execution_count": 16,
     "metadata": {},
     "output_type": "execute_result"
    }
   ],
   "source": [
    "len(test_string)"
   ]
  },
  {
   "cell_type": "code",
   "execution_count": 17,
   "metadata": {},
   "outputs": [
    {
     "data": {
      "text/plain": [
       "23"
      ]
     },
     "execution_count": 17,
     "metadata": {},
     "output_type": "execute_result"
    }
   ],
   "source": [
    "len(utf8_encoded)"
   ]
  },
  {
   "cell_type": "code",
   "execution_count": null,
   "metadata": {},
   "outputs": [],
   "source": []
  },
  {
   "cell_type": "code",
   "execution_count": 18,
   "metadata": {},
   "outputs": [
    {
     "data": {
      "text/plain": [
       "'hello! こんにちは!'"
      ]
     },
     "execution_count": 18,
     "metadata": {},
     "output_type": "execute_result"
    }
   ],
   "source": [
    "utf8_encoded.decode('utf-8')"
   ]
  },
  {
   "cell_type": "code",
   "execution_count": null,
   "metadata": {},
   "outputs": [],
   "source": []
  },
  {
   "cell_type": "markdown",
   "metadata": {},
   "source": [
    "The bug in the original function is that it assumes each byte represents a complete character, but UTF-8 is designed so that:\n",
    "1. ASCII characters (0-127) use 1 byte each ✓\n",
    "2. Non-ASCII characters use 2-4 bytes that must be decoded together ✗\n",
    "3. Continuation bytes (10xxxxxx pattern) are invalid when decoded alone ✗\n",
    "\n",
    "The function works fine for pure ASCII text but fails for any international characters, accented letters, or emojis because it tries to decode the multi-byte sequences one byte at a time instead of as complete units."
   ]
  },
  {
   "cell_type": "code",
   "execution_count": 19,
   "metadata": {},
   "outputs": [],
   "source": [
    "def decode_utf8_bytes_to_str_wrong(bytestring: bytes):\n",
    "    return \"\".join([bytes([b]).decode(\"utf-8\") for b in bytestring])"
   ]
  },
  {
   "cell_type": "code",
   "execution_count": 22,
   "metadata": {},
   "outputs": [],
   "source": [
    "def decode_utf8_bytes_to_str_correct(bytestring: bytes):\n",
    "    return bytestring.decode('utf-8')"
   ]
  },
  {
   "cell_type": "code",
   "execution_count": 20,
   "metadata": {},
   "outputs": [
    {
     "data": {
      "text/plain": [
       "'hello'"
      ]
     },
     "execution_count": 20,
     "metadata": {},
     "output_type": "execute_result"
    }
   ],
   "source": [
    "decode_utf8_bytes_to_str_wrong(\"hello\".encode(\"utf-8\"))"
   ]
  },
  {
   "cell_type": "code",
   "execution_count": 21,
   "metadata": {},
   "outputs": [
    {
     "name": "stdout",
     "output_type": "stream",
     "text": [
      "\n",
      "Original text: Hello\n",
      "UTF-8 bytes: [72, 101, 108, 108, 111]\n",
      "Correct decode: Hello\n",
      "Wrong function: Hello\n",
      "Match? True\n",
      "\n",
      "Original text: café\n",
      "UTF-8 bytes: [99, 97, 102, 195, 169]\n",
      "Correct decode: café\n",
      "Wrong function: ERROR - 'utf-8' codec can't decode byte 0xc3 in position 0: unexpected end of data\n",
      "\n",
      "Original text: こんにちは\n",
      "UTF-8 bytes: [227, 129, 147, 227, 130, 147, 227, 129, 171, 227, 129, 161, 227, 129, 175]\n",
      "Correct decode: こんにちは\n",
      "Wrong function: ERROR - 'utf-8' codec can't decode byte 0xe3 in position 0: unexpected end of data\n",
      "\n",
      "Original text: 🌍\n",
      "UTF-8 bytes: [240, 159, 140, 141]\n",
      "Correct decode: 🌍\n",
      "Wrong function: ERROR - 'utf-8' codec can't decode byte 0xf0 in position 0: unexpected end of data\n",
      "\n",
      "Original text: Hello 世界 🌍\n",
      "UTF-8 bytes: [72, 101, 108, 108, 111, 32, 228, 184, 150, 231, 149, 140, 32, 240, 159, 140, 141]\n",
      "Correct decode: Hello 世界 🌍\n",
      "Wrong function: ERROR - 'utf-8' codec can't decode byte 0xe4 in position 0: unexpected end of data\n"
     ]
    }
   ],
   "source": [
    "# Test with different types of text\n",
    "test_cases = [\n",
    "    \"Hello\",           # ASCII (1 byte per char)\n",
    "    \"café\",            # Latin with accent (1-2 bytes per char)\n",
    "    \"こんにちは\",        # Japanese (3 bytes per char)\n",
    "    \"🌍\",              # Emoji (4 bytes per char)\n",
    "    \"Hello 世界 🌍\",    # Mixed content\n",
    "]\n",
    "\n",
    "for text in test_cases:\n",
    "    utf8_bytes = text.encode('utf-8')\n",
    "    print(f\"\\nOriginal text: {text}\")\n",
    "    print(f\"UTF-8 bytes: {list(utf8_bytes)}\")\n",
    "    print(f\"Correct decode: {utf8_bytes.decode('utf-8')}\")\n",
    "    \n",
    "    try:\n",
    "        wrong_result = decode_utf8_bytes_to_str_wrong(utf8_bytes)\n",
    "        print(f\"Wrong function: {wrong_result}\")\n",
    "        print(f\"Match? {wrong_result == text}\")\n",
    "    except UnicodeDecodeError as e:\n",
    "        print(f\"Wrong function: ERROR - {e}\")"
   ]
  },
  {
   "cell_type": "code",
   "execution_count": 23,
   "metadata": {},
   "outputs": [
    {
     "name": "stdout",
     "output_type": "stream",
     "text": [
      "Invalid 2-byte UTF-8 sequences:\n",
      "\n",
      "Sequence: [192, 128] (['0xc0', '0x80'])\n",
      "Binary: ['11000000', '10000000']\n",
      "Description: Overlong encoding of NULL (should be just 0x00)\n",
      "ERROR: 'utf-8' codec can't decode byte 0xc0 in position 0: invalid start byte\n",
      "\n",
      "Sequence: [193, 128] (['0xc1', '0x80'])\n",
      "Binary: ['11000001', '10000000']\n",
      "Description: Overlong encoding of 0x40 (should be just 0x40)\n",
      "ERROR: 'utf-8' codec can't decode byte 0xc1 in position 0: invalid start byte\n",
      "\n",
      "Sequence: [255, 254] (['0xff', '0xfe'])\n",
      "Binary: ['11111111', '11111110']\n",
      "Description: Invalid UTF-8 bytes (0xFF never appears in UTF-8)\n",
      "ERROR: 'utf-8' codec can't decode byte 0xff in position 0: invalid start byte\n",
      "\n",
      "Sequence: [128, 128] (['0x80', '0x80'])\n",
      "Binary: ['10000000', '10000000']\n",
      "Description: Two continuation bytes with no start byte\n",
      "ERROR: 'utf-8' codec can't decode byte 0x80 in position 0: invalid start byte\n",
      "\n",
      "Sequence: [194, 64] (['0xc2', '0x40'])\n",
      "Binary: ['11000010', '01000000']\n",
      "Description: Start byte + non-continuation byte\n",
      "ERROR: 'utf-8' codec can't decode byte 0xc2 in position 0: invalid continuation byte\n",
      "\n",
      "Sequence: [194, 255] (['0xc2', '0xff'])\n",
      "Binary: ['11000010', '11111111']\n",
      "Description: Start byte + invalid continuation byte\n",
      "ERROR: 'utf-8' codec can't decode byte 0xc2 in position 0: invalid continuation byte\n",
      "\n",
      "Sequence: [237, 160] (['0xed', '0xa0'])\n",
      "Binary: ['11101101', '10100000']\n",
      "Description: High surrogate (reserved for UTF-16, invalid in UTF-8)\n",
      "ERROR: 'utf-8' codec can't decode byte 0xed in position 0: invalid continuation byte\n"
     ]
    }
   ],
   "source": [
    "# Examples of invalid 2-byte UTF-8 sequences\n",
    "invalid_sequences = [\n",
    "    ([0xC0, 0x80], \"Overlong encoding of NULL (should be just 0x00)\"),\n",
    "    ([0xC1, 0x80], \"Overlong encoding of 0x40 (should be just 0x40)\"),\n",
    "    ([0xFF, 0xFE], \"Invalid UTF-8 bytes (0xFF never appears in UTF-8)\"),\n",
    "    ([0x80, 0x80], \"Two continuation bytes with no start byte\"),\n",
    "    ([0xC2, 0x40], \"Start byte + non-continuation byte\"),\n",
    "    ([0xC2, 0xFF], \"Start byte + invalid continuation byte\"),\n",
    "    ([0xED, 0xA0], \"High surrogate (reserved for UTF-16, invalid in UTF-8)\"),\n",
    "]\n",
    "\n",
    "print(\"Invalid 2-byte UTF-8 sequences:\")\n",
    "for sequence, description in invalid_sequences:\n",
    "    print(f\"\\nSequence: {sequence} ({[hex(b) for b in sequence]})\")\n",
    "    print(f\"Binary: {[f'{b:08b}' for b in sequence]}\")\n",
    "    print(f\"Description: {description}\")\n",
    "    \n",
    "    try:\n",
    "        decoded = bytes(sequence).decode('utf-8')\n",
    "        print(f\"Result: {decoded}\")\n",
    "    except UnicodeDecodeError as e:\n",
    "        print(f\"ERROR: {e}\")"
   ]
  },
  {
   "cell_type": "code",
   "execution_count": null,
   "metadata": {},
   "outputs": [],
   "source": []
  }
 ],
 "metadata": {
  "kernelspec": {
   "display_name": "cs336_basics",
   "language": "python",
   "name": "python3"
  },
  "language_info": {
   "codemirror_mode": {
    "name": "ipython",
    "version": 3
   },
   "file_extension": ".py",
   "mimetype": "text/x-python",
   "name": "python",
   "nbconvert_exporter": "python",
   "pygments_lexer": "ipython3",
   "version": "3.11.7"
  }
 },
 "nbformat": 4,
 "nbformat_minor": 2
}
